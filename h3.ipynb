{
 "cells": [
  {
   "cell_type": "markdown",
   "metadata": {},
   "source": [
    "**Put any package imports you need in the below space**"
   ]
  },
  {
   "cell_type": "code",
   "execution_count": 163,
   "metadata": {},
   "outputs": [],
   "source": [
    "from igraph import *\n",
    "import numpy as np\n",
    "import matplotlib.pyplot as plt\n",
    "import math"
   ]
  },
  {
   "cell_type": "markdown",
   "metadata": {},
   "source": [
    "**Exercise 1**: Generating the adjacency matrix A for graphs of particular type. Write a script that generates the adjacency matrix A for each of the following graphs and prints this matrix onto the screen:\n",
    "1. K5: 5-clique, or a fully connected simple, undirected graph of 5 nodes\n",
    "\n",
    "2. K5.3: two disconnected components, C1 and C2, where C1 is a 5-clique K5 and C2 is a 3-clique K3\n",
    "3. K5.3e: Almost the same as K53 but there is a single edge connecting the two components\n",
    "4. B2.3: Complete bi-partite graph with n1=2 nodes in the first part and n2=3 nodes in the second part\n",
    "5. S5: A 5-vertex star (one central \"hub\" node that connects to all the other \"spoke\" nodes)\n",
    "6. P5: A simple path of 5 vertices\n"
   ]
  },
  {
   "cell_type": "code",
   "execution_count": 164,
   "metadata": {},
   "outputs": [
    {
     "name": "stdout",
     "output_type": "stream",
     "text": [
      "[[0, 1, 1, 1, 1]\n",
      " [1, 0, 1, 1, 1]\n",
      " [1, 1, 0, 1, 1]\n",
      " [1, 1, 1, 0, 1]\n",
      " [1, 1, 1, 1, 0]]\n"
     ]
    }
   ],
   "source": [
    "#K5\n",
    "g1=Graph.Full(5)\n",
    "a1= g1.get_adjacency()\n",
    "\n",
    "print a1"
   ]
  },
  {
   "cell_type": "code",
   "execution_count": 165,
   "metadata": {},
   "outputs": [
    {
     "name": "stdout",
     "output_type": "stream",
     "text": [
      "[[0, 1, 1, 1, 1, 0, 0, 0]\n",
      " [1, 0, 1, 1, 1, 0, 0, 0]\n",
      " [1, 1, 0, 1, 1, 0, 0, 0]\n",
      " [1, 1, 1, 0, 1, 0, 0, 0]\n",
      " [1, 1, 1, 1, 0, 0, 0, 0]\n",
      " [0, 0, 0, 0, 0, 0, 1, 1]\n",
      " [0, 0, 0, 0, 0, 1, 0, 1]\n",
      " [0, 0, 0, 0, 0, 1, 1, 0]]\n"
     ]
    }
   ],
   "source": [
    "#K5.3\n",
    "g2_1=Graph.Full(5)\n",
    "g2_2=Graph.Full(3)\n",
    "g2=g2_1 + g2_2\n",
    "a2=g2.get_adjacency()\n",
    "\n",
    "print a2"
   ]
  },
  {
   "cell_type": "code",
   "execution_count": 166,
   "metadata": {},
   "outputs": [
    {
     "name": "stdout",
     "output_type": "stream",
     "text": [
      "[[0, 1, 1, 1, 1, 1, 0, 0]\n",
      " [1, 0, 1, 1, 1, 0, 0, 0]\n",
      " [1, 1, 0, 1, 1, 0, 0, 0]\n",
      " [1, 1, 1, 0, 1, 0, 0, 0]\n",
      " [1, 1, 1, 1, 0, 0, 0, 0]\n",
      " [1, 0, 0, 0, 0, 0, 1, 1]\n",
      " [0, 0, 0, 0, 0, 1, 0, 1]\n",
      " [0, 0, 0, 0, 0, 1, 1, 0]]\n"
     ]
    }
   ],
   "source": [
    "#K5.3e\n",
    "g3_1=Graph.Full(5)\n",
    "g3_2=Graph.Full(3)\n",
    "g3=g3_1 + g3_2\n",
    "\n",
    "g3.add_edge(0,5)\n",
    "a3=g3.get_adjacency()\n",
    "\n",
    "print a3"
   ]
  },
  {
   "cell_type": "code",
   "execution_count": 167,
   "metadata": {},
   "outputs": [
    {
     "name": "stdout",
     "output_type": "stream",
     "text": [
      "[[0, 0, 1, 1, 1]\n",
      " [0, 0, 1, 1, 1]\n",
      " [1, 1, 0, 0, 0]\n",
      " [1, 1, 0, 0, 0]\n",
      " [1, 1, 0, 0, 0]]\n"
     ]
    }
   ],
   "source": [
    "#B2.3\n",
    "g4=Graph.Full_Bipartite(2,3)\n",
    "a4=g4.get_adjacency()\n",
    "\n",
    "print a4"
   ]
  },
  {
   "cell_type": "code",
   "execution_count": 168,
   "metadata": {},
   "outputs": [
    {
     "name": "stdout",
     "output_type": "stream",
     "text": [
      "[[0, 1, 1, 1, 1]\n",
      " [1, 0, 0, 0, 0]\n",
      " [1, 0, 0, 0, 0]\n",
      " [1, 0, 0, 0, 0]\n",
      " [1, 0, 0, 0, 0]]\n"
     ]
    }
   ],
   "source": [
    "#S5\n",
    "g5=Graph.Star(5)\n",
    "a5=g5.get_adjacency()\n",
    "\n",
    "print a5"
   ]
  },
  {
   "cell_type": "code",
   "execution_count": 169,
   "metadata": {},
   "outputs": [
    {
     "name": "stdout",
     "output_type": "stream",
     "text": [
      "[[0, 1, 0, 0, 0]\n",
      " [1, 0, 1, 0, 0]\n",
      " [0, 1, 0, 1, 0]\n",
      " [0, 0, 1, 0, 1]\n",
      " [0, 0, 0, 1, 0]]\n"
     ]
    }
   ],
   "source": [
    "#P5\n",
    "g6=Graph(5)\n",
    "g6.add_edges([(0,1),(1,2),(2,3),(3,4)])\n",
    "a6=g6.get_adjacency()\n",
    "\n",
    "print a6"
   ]
  },
  {
   "cell_type": "markdown",
   "metadata": {},
   "source": [
    "**Exercise 2**: Generating the degree matrix D for a given adjacency matrix A. Write a script that generates a degree matrix for each of the adjacency matrices in Exercise 1. Note that the degree matrix is a diagonal matrix where all the positions except for the diagonal are zero's. The diagonal elements correspond to the degrees of the corresponding nodes, namely Dii = degree(v_i)."
   ]
  },
  {
   "cell_type": "code",
   "execution_count": 170,
   "metadata": {},
   "outputs": [],
   "source": [
    "def find_deg(row):\n",
    "    sum=0\n",
    "    for i in range(len(row)):\n",
    "        sum+=row[i]\n",
    "    return sum\n",
    "\n",
    "def deg_matrix(adj):\n",
    "    n=adj.shape[0]\n",
    "    dm=np.zeros((n,n))\n",
    "    \n",
    "    for i in range(n):\n",
    "        dm[i][i]=find_deg(adj[i])\n",
    "        \n",
    "    return dm"
   ]
  },
  {
   "cell_type": "code",
   "execution_count": 171,
   "metadata": {},
   "outputs": [
    {
     "name": "stdout",
     "output_type": "stream",
     "text": [
      "[[4. 0. 0. 0. 0.]\n",
      " [0. 4. 0. 0. 0.]\n",
      " [0. 0. 4. 0. 0.]\n",
      " [0. 0. 0. 4. 0.]\n",
      " [0. 0. 0. 0. 4.]]\n"
     ]
    }
   ],
   "source": [
    "#K5\n",
    "d1=deg_matrix(a1)\n",
    "print d1"
   ]
  },
  {
   "cell_type": "code",
   "execution_count": 172,
   "metadata": {},
   "outputs": [
    {
     "name": "stdout",
     "output_type": "stream",
     "text": [
      "[[4. 0. 0. 0. 0. 0. 0. 0.]\n",
      " [0. 4. 0. 0. 0. 0. 0. 0.]\n",
      " [0. 0. 4. 0. 0. 0. 0. 0.]\n",
      " [0. 0. 0. 4. 0. 0. 0. 0.]\n",
      " [0. 0. 0. 0. 4. 0. 0. 0.]\n",
      " [0. 0. 0. 0. 0. 2. 0. 0.]\n",
      " [0. 0. 0. 0. 0. 0. 2. 0.]\n",
      " [0. 0. 0. 0. 0. 0. 0. 2.]]\n"
     ]
    }
   ],
   "source": [
    "#K5.3\n",
    "d2=deg_matrix(a2)\n",
    "print d2"
   ]
  },
  {
   "cell_type": "code",
   "execution_count": 173,
   "metadata": {},
   "outputs": [
    {
     "name": "stdout",
     "output_type": "stream",
     "text": [
      "[[5. 0. 0. 0. 0. 0. 0. 0.]\n",
      " [0. 4. 0. 0. 0. 0. 0. 0.]\n",
      " [0. 0. 4. 0. 0. 0. 0. 0.]\n",
      " [0. 0. 0. 4. 0. 0. 0. 0.]\n",
      " [0. 0. 0. 0. 4. 0. 0. 0.]\n",
      " [0. 0. 0. 0. 0. 3. 0. 0.]\n",
      " [0. 0. 0. 0. 0. 0. 2. 0.]\n",
      " [0. 0. 0. 0. 0. 0. 0. 2.]]\n"
     ]
    }
   ],
   "source": [
    "#K5.3e\n",
    "d3=deg_matrix(a3)\n",
    "print d3"
   ]
  },
  {
   "cell_type": "code",
   "execution_count": 174,
   "metadata": {},
   "outputs": [
    {
     "name": "stdout",
     "output_type": "stream",
     "text": [
      "[[3. 0. 0. 0. 0.]\n",
      " [0. 3. 0. 0. 0.]\n",
      " [0. 0. 2. 0. 0.]\n",
      " [0. 0. 0. 2. 0.]\n",
      " [0. 0. 0. 0. 2.]]\n"
     ]
    }
   ],
   "source": [
    "#B2.3\n",
    "d4=deg_matrix(a4)\n",
    "print d4"
   ]
  },
  {
   "cell_type": "code",
   "execution_count": 175,
   "metadata": {},
   "outputs": [
    {
     "name": "stdout",
     "output_type": "stream",
     "text": [
      "[[4. 0. 0. 0. 0.]\n",
      " [0. 1. 0. 0. 0.]\n",
      " [0. 0. 1. 0. 0.]\n",
      " [0. 0. 0. 1. 0.]\n",
      " [0. 0. 0. 0. 1.]]\n"
     ]
    }
   ],
   "source": [
    "#S5\n",
    "d5=deg_matrix(a5)\n",
    "print d5"
   ]
  },
  {
   "cell_type": "code",
   "execution_count": 176,
   "metadata": {},
   "outputs": [
    {
     "name": "stdout",
     "output_type": "stream",
     "text": [
      "[[1. 0. 0. 0. 0.]\n",
      " [0. 2. 0. 0. 0.]\n",
      " [0. 0. 2. 0. 0.]\n",
      " [0. 0. 0. 2. 0.]\n",
      " [0. 0. 0. 0. 1.]]\n"
     ]
    }
   ],
   "source": [
    "#P5\n",
    "d6=deg_matrix(a6)\n",
    "print d6"
   ]
  },
  {
   "cell_type": "markdown",
   "metadata": {},
   "source": [
    "**Exercise 3**: Generating the graph Laplacian matrix L for a given adjacency matrix A and its degree matrix D. Write a script that generates the graph Laplacian matrix L = D - A for each of the adjacency matrices in Exercise 1."
   ]
  },
  {
   "cell_type": "code",
   "execution_count": 177,
   "metadata": {},
   "outputs": [
    {
     "name": "stdout",
     "output_type": "stream",
     "text": [
      "[[ 4. -1. -1. -1. -1.]\n",
      " [-1.  4. -1. -1. -1.]\n",
      " [-1. -1.  4. -1. -1.]\n",
      " [-1. -1. -1.  4. -1.]\n",
      " [-1. -1. -1. -1.  4.]]\n"
     ]
    }
   ],
   "source": [
    "l1=d1-np.array(a1.data)\n",
    "print l1"
   ]
  },
  {
   "cell_type": "code",
   "execution_count": 178,
   "metadata": {},
   "outputs": [
    {
     "name": "stdout",
     "output_type": "stream",
     "text": [
      "[[ 4. -1. -1. -1. -1.  0.  0.  0.]\n",
      " [-1.  4. -1. -1. -1.  0.  0.  0.]\n",
      " [-1. -1.  4. -1. -1.  0.  0.  0.]\n",
      " [-1. -1. -1.  4. -1.  0.  0.  0.]\n",
      " [-1. -1. -1. -1.  4.  0.  0.  0.]\n",
      " [ 0.  0.  0.  0.  0.  2. -1. -1.]\n",
      " [ 0.  0.  0.  0.  0. -1.  2. -1.]\n",
      " [ 0.  0.  0.  0.  0. -1. -1.  2.]]\n"
     ]
    }
   ],
   "source": [
    "l2=d2-np.array(a2.data)\n",
    "print l2"
   ]
  },
  {
   "cell_type": "code",
   "execution_count": 179,
   "metadata": {},
   "outputs": [
    {
     "name": "stdout",
     "output_type": "stream",
     "text": [
      "[[ 5. -1. -1. -1. -1. -1.  0.  0.]\n",
      " [-1.  4. -1. -1. -1.  0.  0.  0.]\n",
      " [-1. -1.  4. -1. -1.  0.  0.  0.]\n",
      " [-1. -1. -1.  4. -1.  0.  0.  0.]\n",
      " [-1. -1. -1. -1.  4.  0.  0.  0.]\n",
      " [-1.  0.  0.  0.  0.  3. -1. -1.]\n",
      " [ 0.  0.  0.  0.  0. -1.  2. -1.]\n",
      " [ 0.  0.  0.  0.  0. -1. -1.  2.]]\n"
     ]
    }
   ],
   "source": [
    "l3=d3-np.array(a3.data)\n",
    "print l3"
   ]
  },
  {
   "cell_type": "code",
   "execution_count": 180,
   "metadata": {},
   "outputs": [
    {
     "name": "stdout",
     "output_type": "stream",
     "text": [
      "[[ 3.  0. -1. -1. -1.]\n",
      " [ 0.  3. -1. -1. -1.]\n",
      " [-1. -1.  2.  0.  0.]\n",
      " [-1. -1.  0.  2.  0.]\n",
      " [-1. -1.  0.  0.  2.]]\n"
     ]
    }
   ],
   "source": [
    "l4=d4-np.array(a4.data)\n",
    "print l4"
   ]
  },
  {
   "cell_type": "code",
   "execution_count": 181,
   "metadata": {},
   "outputs": [
    {
     "name": "stdout",
     "output_type": "stream",
     "text": [
      "[[ 4. -1. -1. -1. -1.]\n",
      " [-1.  1.  0.  0.  0.]\n",
      " [-1.  0.  1.  0.  0.]\n",
      " [-1.  0.  0.  1.  0.]\n",
      " [-1.  0.  0.  0.  1.]]\n"
     ]
    }
   ],
   "source": [
    "l5=d5-np.array(a5.data)\n",
    "print l5"
   ]
  },
  {
   "cell_type": "code",
   "execution_count": 182,
   "metadata": {},
   "outputs": [
    {
     "name": "stdout",
     "output_type": "stream",
     "text": [
      "[[ 1. -1.  0.  0.  0.]\n",
      " [-1.  2. -1.  0.  0.]\n",
      " [ 0. -1.  2. -1.  0.]\n",
      " [ 0.  0. -1.  2. -1.]\n",
      " [ 0.  0.  0. -1.  1.]]\n"
     ]
    }
   ],
   "source": [
    "l6=d6-np.array(a6.data)\n",
    "print l6"
   ]
  },
  {
   "cell_type": "markdown",
   "metadata": {},
   "source": [
    "Answer the following questions:\n",
    "1. Is L a sparse matrix?\n",
    "\n",
    "Ans: No\n",
    "\n",
    "2. In what positions does L have non-zero elements?\n",
    "\n",
    "Ans: L has non zero elements at the diagonals and edge locations.\n",
    "\n",
    "3. What are the values of the non-diagonal and non-zero elements?\n",
    "\n",
    "Ans: -1\n",
    "     \n",
    "4. What does L contain along its diagonal?\n",
    "\n",
    "Ans: The degree of the vertex.\n"
   ]
  },
  {
   "cell_type": "markdown",
   "metadata": {},
   "source": [
    "**Exercise 4**: Generating the graph spectrum, or the multiset of the eigenvalues of the graph adjacency matrix A. Write a script that calculates the eigenvalues of the graph adjacency matrix for each of the matrices in Exercise 1. Plot the eigenvalues in the increasing order of their values"
   ]
  },
  {
   "cell_type": "code",
   "execution_count": 183,
   "metadata": {},
   "outputs": [],
   "source": [
    "def plot_eigenvalues(matrix):\n",
    "    eigenvalues=np.sort(np.linalg.eig(matrix)[0])\n",
    "    print ['%0.3f' % eigenvalue for eigenvalue in eigenvalues]\n",
    "    plt.plot(eigenvalues)\n",
    "    plt.ylabel('Eigenvalues')\n",
    "    plt.show()"
   ]
  },
  {
   "cell_type": "code",
   "execution_count": 184,
   "metadata": {},
   "outputs": [
    {
     "name": "stdout",
     "output_type": "stream",
     "text": [
      "['-1.000', '-1.000', '-1.000', '-1.000', '4.000']\n"
     ]
    },
    {
     "data": {
      "image/png": "[encoded data removed]",
      "text/plain": [
       "<Figure size 432x288 with 1 Axes>"
      ]
     },
     "metadata": {
      "needs_background": "light"
     },
     "output_type": "display_data"
    }
   ],
   "source": [
    "plot_eigenvalues(a1.data)"
   ]
  },
  {
   "cell_type": "code",
   "execution_count": 185,
   "metadata": {},
   "outputs": [
    {
     "name": "stdout",
     "output_type": "stream",
     "text": [
      "['-1.000', '-1.000', '-1.000', '-1.000', '-1.000', '-1.000', '2.000', '4.000']\n"
     ]
    },
    {
     "data": {
      "image/png": "[encoded data removed]",
      "text/plain": [
       "<Figure size 432x288 with 1 Axes>"
      ]
     },
     "metadata": {
      "needs_background": "light"
     },
     "output_type": "display_data"
    }
   ],
   "source": [
    "plot_eigenvalues(a2.data)"
   ]
  },
  {
   "cell_type": "code",
   "execution_count": 186,
   "metadata": {},
   "outputs": [
    {
     "name": "stdout",
     "output_type": "stream",
     "text": [
      "['-1.780', '-1.000', '-1.000', '-1.000', '-1.000', '-0.337', '2.055', '4.062']\n"
     ]
    },
    {
     "data": {
      "image/png": "[encoded data removed]",
      "text/plain": [
       "<Figure size 432x288 with 1 Axes>"
      ]
     },
     "metadata": {
      "needs_background": "light"
     },
     "output_type": "display_data"
    }
   ],
   "source": [
    "plot_eigenvalues(a3.data)"
   ]
  },
  {
   "cell_type": "code",
   "execution_count": 187,
   "metadata": {
    "scrolled": true
   },
   "outputs": [
    {
     "name": "stdout",
     "output_type": "stream",
     "text": [
      "['-2.449', '0.000', '0.000', '0.000', '2.449']\n"
     ]
    },
    {
     "data": {
      "image/png": "[encoded data removed]",
      "text/plain": [
       "<Figure size 432x288 with 1 Axes>"
      ]
     },
     "metadata": {
      "needs_background": "light"
     },
     "output_type": "display_data"
    }
   ],
   "source": [
    "plot_eigenvalues(a4.data)"
   ]
  },
  {
   "cell_type": "code",
   "execution_count": 188,
   "metadata": {},
   "outputs": [
    {
     "name": "stdout",
     "output_type": "stream",
     "text": [
      "['-2.000', '0.000', '0.000', '0.000', '2.000']\n"
     ]
    },
    {
     "data": {
      "image/png": "[encoded data removed]",
      "text/plain": [
       "<Figure size 432x288 with 1 Axes>"
      ]
     },
     "metadata": {
      "needs_background": "light"
     },
     "output_type": "display_data"
    }
   ],
   "source": [
    "plot_eigenvalues(a5.data)"
   ]
  },
  {
   "cell_type": "code",
   "execution_count": 189,
   "metadata": {},
   "outputs": [
    {
     "name": "stdout",
     "output_type": "stream",
     "text": [
      "['-1.732', '-1.000', '-0.000', '1.000', '1.732']\n"
     ]
    },
    {
     "data": {
      "image/png": "[encoded data removed]",
      "text/plain": [
       "<Figure size 432x288 with 1 Axes>"
      ]
     },
     "metadata": {
      "needs_background": "light"
     },
     "output_type": "display_data"
    }
   ],
   "source": [
    "plot_eigenvalues(a6.data)"
   ]
  },
  {
   "cell_type": "markdown",
   "metadata": {},
   "source": [
    "Answer the following questions:\n",
    "1. What can you say about the eigenvalues of the complete graph (K5): the number of unique eigenvalues, the largest and the smallest eigenvalues, the multiplicity (how many times the same eigenvalue appears) of each eigenvalue?\n",
    "\n",
    "Ans: Number of unique eigen values: 2\n",
    "Largest and smallest eigen value: -1 and 4 respectively.\n",
    "Multiplicity: -1 occurs 4 times and 4 occurs 1 time.\n",
    "\n",
    "2. What is the graph spectrum of the bi-partite graph, B2.3? If n1 = n and n2 = m (a general complete bi-partite graph), then what can you say about its graph spectrum? [Hint: check sqrt(n * m)] If \\lambda is the eigenvalue of the bi-partite graph, will minus \\lambda be also the eigenvalue?\n",
    "\n",
    "Ans: \n",
    "\n",
    "Graph spectrum: [-2.449,0.000,2.449]\n",
    "\n",
    "For a general complete bi-partite graph, the spectrum is: [-sqrt(n*m), 0, sqrt(n*m)]\n",
    "\n",
    "Yes, if lambda is an eigen value, the -lambda wil be an eigenvalue too.\n",
    "\n",
    "3. What is the largest eigenvalue of the star graph S5? If S5 were generalized to an N-vertex star, what could you say about the value of its largest eigenvalue?\n",
    "\n",
    "Ans: Largest eigenvalue: 2\n",
    "\n",
    "For a generalized n vertex star graph, the largest eigenvalue would be sqrt(n-1).\n",
    "\n",
    "4. What is the largest eigenvalue of the path graph P5? As the length of the path increases, what can you say about the changes in the largest eigenvalue?\n",
    "\n",
    "Ans: Largest eigen value: 1.732\n",
    "\n",
    "As length of the path increases, the largest eigenvalue would increase by value.\n",
    "\n",
    "5. How does the largest eigenvalue of the path P5 (or its more generalization to an arbitrary length) compare with the largest eigenvalues of the star graph or the complete graph? If you are asked to sort the largest eigenvalue of the path, the star, and the clique) in the increasing order, what kind of relationship would you assign (E.g., \\lambda{path} > or < than \\lambda{star})?\n",
    "\n",
    "Ans:\n",
    "\n",
    "Largest eigenvalue of the path graph: 1.732\n",
    "\n",
    "Largest eigenvalue of the star graph: 2\n",
    "\n",
    "Largest eigenvalue of the complete graph: 4\n",
    "\n",
    "Therefore, the relationship would be: lambda{clique} > lambda{star} > lambda{path}\n"
   ]
  },
  {
   "cell_type": "markdown",
   "metadata": {},
   "source": [
    "**Exercise 5**: Generating the graph spectrum, or the multiset of the eigenvalues of the graph Laplacian. Write a script that calculates the eigenvalues of the graph Laplacian for each of the graphs in Exercise 1. Plot the eigenvalues in the increasing order of their values. "
   ]
  },
  {
   "cell_type": "code",
   "execution_count": 190,
   "metadata": {},
   "outputs": [
    {
     "name": "stdout",
     "output_type": "stream",
     "text": [
      "['0.000', '5.000', '5.000', '5.000', '5.000']\n"
     ]
    },
    {
     "data": {
      "image/png": "[encoded data removed]",
      "text/plain": [
       "<Figure size 432x288 with 1 Axes>"
      ]
     },
     "metadata": {
      "needs_background": "light"
     },
     "output_type": "display_data"
    }
   ],
   "source": [
    "plot_eigenvalues(l1)"
   ]
  },
  {
   "cell_type": "code",
   "execution_count": 191,
   "metadata": {},
   "outputs": [
    {
     "name": "stdout",
     "output_type": "stream",
     "text": [
      "['-0.000', '0.000', '3.000', '3.000', '5.000', '5.000', '5.000', '5.000']\n"
     ]
    },
    {
     "data": {
      "image/png": "[encoded data removed]",
      "text/plain": [
       "<Figure size 432x288 with 1 Axes>"
      ]
     },
     "metadata": {
      "needs_background": "light"
     },
     "output_type": "display_data"
    }
   ],
   "source": [
    "plot_eigenvalues(l2)"
   ]
  },
  {
   "cell_type": "code",
   "execution_count": 192,
   "metadata": {},
   "outputs": [
    {
     "name": "stdout",
     "output_type": "stream",
     "text": [
      "['-0.000', '0.374', '3.000', '3.485', '5.000', '5.000', '5.000', '6.141']\n"
     ]
    },
    {
     "data": {
      "image/png": "[encoded data removed]",
      "text/plain": [
       "<Figure size 432x288 with 1 Axes>"
      ]
     },
     "metadata": {
      "needs_background": "light"
     },
     "output_type": "display_data"
    }
   ],
   "source": [
    "plot_eigenvalues(l3)"
   ]
  },
  {
   "cell_type": "code",
   "execution_count": 193,
   "metadata": {},
   "outputs": [
    {
     "name": "stdout",
     "output_type": "stream",
     "text": [
      "['0.000', '2.000', '2.000', '3.000', '5.000']\n"
     ]
    },
    {
     "data": {
      "image/png": "[encoded data removed]",
      "text/plain": [
       "<Figure size 432x288 with 1 Axes>"
      ]
     },
     "metadata": {
      "needs_background": "light"
     },
     "output_type": "display_data"
    }
   ],
   "source": [
    "plot_eigenvalues(l4)"
   ]
  },
  {
   "cell_type": "code",
   "execution_count": 194,
   "metadata": {},
   "outputs": [
    {
     "name": "stdout",
     "output_type": "stream",
     "text": [
      "['0.000', '1.000', '1.000', '1.000', '5.000']\n"
     ]
    },
    {
     "data": {
      "image/png": "[encoded data removed]",
      "text/plain": [
       "<Figure size 432x288 with 1 Axes>"
      ]
     },
     "metadata": {
      "needs_background": "light"
     },
     "output_type": "display_data"
    }
   ],
   "source": [
    "plot_eigenvalues(l5)"
   ]
  },
  {
   "cell_type": "code",
   "execution_count": 195,
   "metadata": {},
   "outputs": [
    {
     "name": "stdout",
     "output_type": "stream",
     "text": [
      "['0.000', '0.382', '1.382', '2.618', '3.618']\n"
     ]
    },
    {
     "data": {
      "image/png": "[encoded data removed]",
      "text/plain": [
       "<Figure size 432x288 with 1 Axes>"
      ]
     },
     "metadata": {
      "needs_background": "light"
     },
     "output_type": "display_data"
    }
   ],
   "source": [
    "plot_eigenvalues(l6)"
   ]
  },
  {
   "cell_type": "markdown",
   "metadata": {},
   "source": [
    "Answer the following questions:\n",
    "1. What can you say about the largest and the smallest eigenvalues?\n",
    "\n",
    "Ans:\n",
    "\n",
    "K5:    Smallest = 0 Largest = 5\n",
    "\n",
    "K5.3:  Smallest = 0 Largest = 5\n",
    "\n",
    "K5.3e: Smallest = 0 Largest = 6.141\n",
    "\n",
    "B2.3:  Smallest = 0 Largest = 5\n",
    "\n",
    "S5:    Smallest = 0 Largest = 5\n",
    "\n",
    "P5:    Smallest = 0 Largest = 3.618\n",
    "\n",
    "2. What is the multiplicity (how many times the same eigenvalue appears) of the zero eigenvalue for each of the cases?\n",
    "\n",
    "Ans:\n",
    "\n",
    "K5:    1\n",
    "\n",
    "K5.3:  2\n",
    "\n",
    "K5.3e: 1\n",
    "\n",
    "B2.3:  1\n",
    "\n",
    "S5:    1\n",
    "\n",
    "P5:    1\n",
    "\n",
    "3. If K53 graph would be generalized to include c>2 components, what can you say about the multiplicity of the zero eigenvalues?\n",
    "\n",
    "Ans: The multiplicity of the eigenvalue 0 denotes the number of disconnected components.\n",
    "\n",
    "4. If graph G is connected (i.e., the number of disconnected components is one), what can you say about the multiplicity of the zero eigenvalue?\n",
    "\n",
    "Ans: Multiplicity is 1.\n",
    "\n",
    "5. For the bi-partite graph, what is the value of the second smallest eigenvalue?\n",
    "\n",
    "Ans: Value of the second smallest eigen value: 2\n",
    "\n",
    "6. Is the vector, whose components consist of 1's only, the eigenvector of the Laplacian? If it is, then what is its corresponding eigenvalue?\n",
    "\n",
    "Ans: Corresponding eigen value: 0\n",
    "\n",
    "7. Suppose the graph Laplacian matrix has the zero eigenvalue of multiplicity k. Can you say anything about the structure of such a graph?\n",
    "\n",
    "Ans: The graph has k disconnected components.\n"
   ]
  }
 ],
 "metadata": {
  "kernelspec": {
   "display_name": "Python 2",
   "language": "python",
   "name": "python2"
  },
  "language_info": {
   "codemirror_mode": {
    "name": "ipython",
    "version": 2
   },
   "file_extension": ".py",
   "mimetype": "text/x-python",
   "name": "python",
   "nbconvert_exporter": "python",
   "pygments_lexer": "ipython2",
   "version": "2.7.16"
  }
 },
 "nbformat": 4,
 "nbformat_minor": 1
}
